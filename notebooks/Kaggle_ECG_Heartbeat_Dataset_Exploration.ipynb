{
  "nbformat": 4,
  "nbformat_minor": 0,
  "metadata": {
    "colab": {
      "provenance": []
    },
    "kernelspec": {
      "name": "python3",
      "display_name": "Python 3"
    },
    "language_info": {
      "name": "python"
    }
  },
  "cells": [
    {
      "cell_type": "markdown",
      "source": [
        "# Dataset Exploration of Kaggle ECG Heartbeat Dataset"
      ],
      "metadata": {
        "id": "F6dfM34sf_l1"
      }
    },
    {
      "cell_type": "markdown",
      "source": [
        "![rainbow](https://github.com/ancilcleetus/My-Learning-Journey/assets/25684256/839c3524-2a1d-4779-85a0-83c562e1e5e5)"
      ],
      "metadata": {
        "id": "D0XaQAZ-g549"
      }
    },
    {
      "cell_type": "markdown",
      "source": [
        "# 📖 TABLE OF CONTENTS\n",
        "\n",
        "- [Section 1]()\n",
        "  - [Subsection 1]()\n",
        "    - [Subsubsection 1]()\n",
        "    - [Subsubsection 2]()\n",
        "  - [Subsection 2]()\n",
        "    - [Subsubsection 1]()\n",
        "    - [Subsubsection 2]()\n",
        "- [Section 2]()\n",
        "  - [Subsection 1]()\n",
        "    - [Subsubsection 1]()\n",
        "    - [Subsubsection 2]()\n",
        "  - [Subsection 2]()\n",
        "    - [Subsubsection 1]()\n",
        "    - [Subsubsection 2]()"
      ],
      "metadata": {
        "id": "SIhfEEeuxaVU"
      }
    },
    {
      "cell_type": "markdown",
      "source": [
        "![rainbow](https://github.com/ancilcleetus/My-Learning-Journey/assets/25684256/839c3524-2a1d-4779-85a0-83c562e1e5e5)"
      ],
      "metadata": {
        "id": "uLR90WhedwER"
      }
    },
    {
      "cell_type": "markdown",
      "source": [
        "# 1. Intro"
      ],
      "metadata": {
        "id": "bKim3KwyTp11"
      }
    },
    {
      "cell_type": "markdown",
      "source": [
        "Welcome to the second Jupyter Notebook of the **HeartBeatInsight** Project! In this Notebook, we will perform a **detailed exploration** of the [Kaggle ECG Heartbeat Categorization Dataset](https://www.kaggle.com/datasets/shayanfazeli/heartbeat). Our goal is to understand the dataset **inside out** through various data exploration techniques. By the end of this section, you'll know every detail of this dataset — its structure, distribution, features, and potential challenges."
      ],
      "metadata": {
        "id": "4bmL65jMcRH7"
      }
    },
    {
      "cell_type": "markdown",
      "source": [
        "![rainbow](https://github.com/ancilcleetus/My-Learning-Journey/assets/25684256/839c3524-2a1d-4779-85a0-83c562e1e5e5)"
      ],
      "metadata": {
        "id": "tImNrwaYd6HM"
      }
    },
    {
      "cell_type": "markdown",
      "source": [
        "# 2. Dataset Overview"
      ],
      "metadata": {
        "id": "ACjB3wzid6Hf"
      }
    },
    {
      "cell_type": "markdown",
      "source": [
        "Let's begin by loading and examining the dataset."
      ],
      "metadata": {
        "id": "NW8wyomaeGMX"
      }
    },
    {
      "cell_type": "markdown",
      "source": [
        "## 🔗 Dataset Link"
      ],
      "metadata": {
        "id": "GwpXcWe0eIEB"
      }
    },
    {
      "cell_type": "markdown",
      "source": [
        "[**Kaggle ECG Heartbeat Dataset**](https://www.kaggle.com/datasets/shayanfazeli/heartbeat)"
      ],
      "metadata": {
        "id": "0aihHxxreRgy"
      }
    },
    {
      "cell_type": "markdown",
      "source": [
        "## 📥 Download and Load the Dataset"
      ],
      "metadata": {
        "id": "436XJWrVeZf_"
      }
    },
    {
      "cell_type": "markdown",
      "source": [
        "First, download the dataset from Kaggle."
      ],
      "metadata": {
        "id": "EnPudR8BfYQc"
      }
    },
    {
      "cell_type": "code",
      "source": [
        "import kagglehub\n",
        "\n",
        "# Download latest version\n",
        "path = kagglehub.dataset_download(\"shayanfazeli/heartbeat\")\n",
        "\n",
        "print(f\"Path to dataset files: {path}\")"
      ],
      "metadata": {
        "colab": {
          "base_uri": "https://localhost:8080/"
        },
        "id": "QyU7jPIrfbPw",
        "outputId": "9e7af786-d72e-459f-8972-1d8d8288cf32"
      },
      "execution_count": 1,
      "outputs": [
        {
          "output_type": "stream",
          "name": "stdout",
          "text": [
            "Downloading from https://www.kaggle.com/api/v1/datasets/download/shayanfazeli/heartbeat?dataset_version_number=1...\n"
          ]
        },
        {
          "output_type": "stream",
          "name": "stderr",
          "text": [
            "100%|██████████| 98.8M/98.8M [00:04<00:00, 22.1MB/s]"
          ]
        },
        {
          "output_type": "stream",
          "name": "stdout",
          "text": [
            "Extracting files...\n"
          ]
        },
        {
          "output_type": "stream",
          "name": "stderr",
          "text": [
            "\n"
          ]
        },
        {
          "output_type": "stream",
          "name": "stdout",
          "text": [
            "Path to dataset files: /root/.cache/kagglehub/datasets/shayanfazeli/heartbeat/versions/1\n"
          ]
        }
      ]
    },
    {
      "cell_type": "markdown",
      "source": [
        "Now, move the downloaded dataset to /content folder."
      ],
      "metadata": {
        "id": "DiFtqWbSgsj0"
      }
    },
    {
      "cell_type": "code",
      "source": [
        "import os\n",
        "import shutil\n",
        "\n",
        "# Define the source and destination paths\n",
        "source_path = \"/root/.cache/kagglehub/datasets/shayanfazeli/heartbeat/versions/1\"\n",
        "destination_path = \"/content\"\n",
        "\n",
        "# Ensure the destination directory exists\n",
        "if not os.path.exists(destination_path):\n",
        "    os.makedirs(destination_path)\n",
        "\n",
        "# List all files and directories in the source path\n",
        "for item in os.listdir(source_path):\n",
        "    # Construct full file paths\n",
        "    source_item = os.path.join(source_path, item)\n",
        "    destination_item = os.path.join(destination_path, item)\n",
        "\n",
        "    # Move the file or directory\n",
        "    if os.path.isdir(source_item):\n",
        "        shutil.copytree(source_item, destination_item)\n",
        "    else:\n",
        "        shutil.move(source_item, destination_item)\n",
        "\n",
        "print(\"Files and directories have been moved to /content.\")\n",
        "print(f\"Content of /content: \\n{os.listdir('/content')}\")"
      ],
      "metadata": {
        "colab": {
          "base_uri": "https://localhost:8080/"
        },
        "id": "1Lvc6WKegzIM",
        "outputId": "f4e86b21-5ef7-414f-c3e3-07de0a3d12da"
      },
      "execution_count": 2,
      "outputs": [
        {
          "output_type": "stream",
          "name": "stdout",
          "text": [
            "Files and directories have been moved to /content.\n",
            "Content of /content: \n",
            "['.config', 'ptbdb_normal.csv', 'mitbih_train.csv', 'ptbdb_abnormal.csv', 'mitbih_test.csv', 'sample_data']\n"
          ]
        }
      ]
    },
    {
      "cell_type": "markdown",
      "source": [
        "Now, import the necessary libraries and load the dataset."
      ],
      "metadata": {
        "id": "bgdaHBGberKc"
      }
    },
    {
      "cell_type": "code",
      "source": [
        "import pandas as pd\n",
        "import numpy as np\n",
        "import matplotlib.pyplot as plt\n",
        "import seaborn as sns\n",
        "import plotly.express as px\n",
        "from scipy.stats import zscore\n",
        "from collections import Counter\n",
        "\n",
        "# Load the training and testing datasets\n",
        "train_df = pd.read_csv('mitbih_train.csv')\n",
        "test_df = pd.read_csv('mitbih_test.csv')\n",
        "\n",
        "# Display the first few rows of the training dataset\n",
        "train_df.head()"
      ],
      "metadata": {
        "colab": {
          "base_uri": "https://localhost:8080/",
          "height": 256
        },
        "id": "MAJ3PM6Wevh5",
        "outputId": "fa953a3b-aaf1-4673-d346-020efdcb7ec8"
      },
      "execution_count": 3,
      "outputs": [
        {
          "output_type": "execute_result",
          "data": {
            "text/plain": [
              "   9.779411554336547852e-01  9.264705777168273926e-01  \\\n",
              "0                  0.960114                  0.863248   \n",
              "1                  1.000000                  0.659459   \n",
              "2                  0.925414                  0.665746   \n",
              "3                  0.967136                  1.000000   \n",
              "4                  0.927461                  1.000000   \n",
              "\n",
              "   6.813725233078002930e-01  2.450980395078659058e-01  \\\n",
              "0                  0.461538                  0.196581   \n",
              "1                  0.186486                  0.070270   \n",
              "2                  0.541436                  0.276243   \n",
              "3                  0.830986                  0.586854   \n",
              "4                  0.626943                  0.193437   \n",
              "\n",
              "   1.544117629528045654e-01  1.911764740943908691e-01  \\\n",
              "0                  0.094017                  0.125356   \n",
              "1                  0.070270                  0.059459   \n",
              "2                  0.196133                  0.077348   \n",
              "3                  0.356808                  0.248826   \n",
              "4                  0.094991                  0.072539   \n",
              "\n",
              "   1.519607901573181152e-01  8.578431606292724609e-02  \\\n",
              "0                  0.099715                  0.088319   \n",
              "1                  0.056757                  0.043243   \n",
              "2                  0.071823                  0.060773   \n",
              "3                  0.145540                  0.089202   \n",
              "4                  0.043178                  0.053541   \n",
              "\n",
              "   5.882352963089942932e-02  4.901960864663124084e-02  ...  \\\n",
              "0                  0.074074                  0.082621  ...   \n",
              "1                  0.054054                  0.045946  ...   \n",
              "2                  0.066298                  0.058011  ...   \n",
              "3                  0.117371                  0.150235  ...   \n",
              "4                  0.093264                  0.189983  ...   \n",
              "\n",
              "   0.000000000000000000e+00.79  0.000000000000000000e+00.80  \\\n",
              "0                          0.0                          0.0   \n",
              "1                          0.0                          0.0   \n",
              "2                          0.0                          0.0   \n",
              "3                          0.0                          0.0   \n",
              "4                          0.0                          0.0   \n",
              "\n",
              "   0.000000000000000000e+00.81  0.000000000000000000e+00.82  \\\n",
              "0                          0.0                          0.0   \n",
              "1                          0.0                          0.0   \n",
              "2                          0.0                          0.0   \n",
              "3                          0.0                          0.0   \n",
              "4                          0.0                          0.0   \n",
              "\n",
              "   0.000000000000000000e+00.83  0.000000000000000000e+00.84  \\\n",
              "0                          0.0                          0.0   \n",
              "1                          0.0                          0.0   \n",
              "2                          0.0                          0.0   \n",
              "3                          0.0                          0.0   \n",
              "4                          0.0                          0.0   \n",
              "\n",
              "   0.000000000000000000e+00.85  0.000000000000000000e+00.86  \\\n",
              "0                          0.0                          0.0   \n",
              "1                          0.0                          0.0   \n",
              "2                          0.0                          0.0   \n",
              "3                          0.0                          0.0   \n",
              "4                          0.0                          0.0   \n",
              "\n",
              "   0.000000000000000000e+00.87  0.000000000000000000e+00.88  \n",
              "0                          0.0                          0.0  \n",
              "1                          0.0                          0.0  \n",
              "2                          0.0                          0.0  \n",
              "3                          0.0                          0.0  \n",
              "4                          0.0                          0.0  \n",
              "\n",
              "[5 rows x 188 columns]"
            ],
            "text/html": [
              "\n",
              "  <div id=\"df-139922e0-8295-4b05-811d-5f68f540afb8\" class=\"colab-df-container\">\n",
              "    <div>\n",
              "<style scoped>\n",
              "    .dataframe tbody tr th:only-of-type {\n",
              "        vertical-align: middle;\n",
              "    }\n",
              "\n",
              "    .dataframe tbody tr th {\n",
              "        vertical-align: top;\n",
              "    }\n",
              "\n",
              "    .dataframe thead th {\n",
              "        text-align: right;\n",
              "    }\n",
              "</style>\n",
              "<table border=\"1\" class=\"dataframe\">\n",
              "  <thead>\n",
              "    <tr style=\"text-align: right;\">\n",
              "      <th></th>\n",
              "      <th>9.779411554336547852e-01</th>\n",
              "      <th>9.264705777168273926e-01</th>\n",
              "      <th>6.813725233078002930e-01</th>\n",
              "      <th>2.450980395078659058e-01</th>\n",
              "      <th>1.544117629528045654e-01</th>\n",
              "      <th>1.911764740943908691e-01</th>\n",
              "      <th>1.519607901573181152e-01</th>\n",
              "      <th>8.578431606292724609e-02</th>\n",
              "      <th>5.882352963089942932e-02</th>\n",
              "      <th>4.901960864663124084e-02</th>\n",
              "      <th>...</th>\n",
              "      <th>0.000000000000000000e+00.79</th>\n",
              "      <th>0.000000000000000000e+00.80</th>\n",
              "      <th>0.000000000000000000e+00.81</th>\n",
              "      <th>0.000000000000000000e+00.82</th>\n",
              "      <th>0.000000000000000000e+00.83</th>\n",
              "      <th>0.000000000000000000e+00.84</th>\n",
              "      <th>0.000000000000000000e+00.85</th>\n",
              "      <th>0.000000000000000000e+00.86</th>\n",
              "      <th>0.000000000000000000e+00.87</th>\n",
              "      <th>0.000000000000000000e+00.88</th>\n",
              "    </tr>\n",
              "  </thead>\n",
              "  <tbody>\n",
              "    <tr>\n",
              "      <th>0</th>\n",
              "      <td>0.960114</td>\n",
              "      <td>0.863248</td>\n",
              "      <td>0.461538</td>\n",
              "      <td>0.196581</td>\n",
              "      <td>0.094017</td>\n",
              "      <td>0.125356</td>\n",
              "      <td>0.099715</td>\n",
              "      <td>0.088319</td>\n",
              "      <td>0.074074</td>\n",
              "      <td>0.082621</td>\n",
              "      <td>...</td>\n",
              "      <td>0.0</td>\n",
              "      <td>0.0</td>\n",
              "      <td>0.0</td>\n",
              "      <td>0.0</td>\n",
              "      <td>0.0</td>\n",
              "      <td>0.0</td>\n",
              "      <td>0.0</td>\n",
              "      <td>0.0</td>\n",
              "      <td>0.0</td>\n",
              "      <td>0.0</td>\n",
              "    </tr>\n",
              "    <tr>\n",
              "      <th>1</th>\n",
              "      <td>1.000000</td>\n",
              "      <td>0.659459</td>\n",
              "      <td>0.186486</td>\n",
              "      <td>0.070270</td>\n",
              "      <td>0.070270</td>\n",
              "      <td>0.059459</td>\n",
              "      <td>0.056757</td>\n",
              "      <td>0.043243</td>\n",
              "      <td>0.054054</td>\n",
              "      <td>0.045946</td>\n",
              "      <td>...</td>\n",
              "      <td>0.0</td>\n",
              "      <td>0.0</td>\n",
              "      <td>0.0</td>\n",
              "      <td>0.0</td>\n",
              "      <td>0.0</td>\n",
              "      <td>0.0</td>\n",
              "      <td>0.0</td>\n",
              "      <td>0.0</td>\n",
              "      <td>0.0</td>\n",
              "      <td>0.0</td>\n",
              "    </tr>\n",
              "    <tr>\n",
              "      <th>2</th>\n",
              "      <td>0.925414</td>\n",
              "      <td>0.665746</td>\n",
              "      <td>0.541436</td>\n",
              "      <td>0.276243</td>\n",
              "      <td>0.196133</td>\n",
              "      <td>0.077348</td>\n",
              "      <td>0.071823</td>\n",
              "      <td>0.060773</td>\n",
              "      <td>0.066298</td>\n",
              "      <td>0.058011</td>\n",
              "      <td>...</td>\n",
              "      <td>0.0</td>\n",
              "      <td>0.0</td>\n",
              "      <td>0.0</td>\n",
              "      <td>0.0</td>\n",
              "      <td>0.0</td>\n",
              "      <td>0.0</td>\n",
              "      <td>0.0</td>\n",
              "      <td>0.0</td>\n",
              "      <td>0.0</td>\n",
              "      <td>0.0</td>\n",
              "    </tr>\n",
              "    <tr>\n",
              "      <th>3</th>\n",
              "      <td>0.967136</td>\n",
              "      <td>1.000000</td>\n",
              "      <td>0.830986</td>\n",
              "      <td>0.586854</td>\n",
              "      <td>0.356808</td>\n",
              "      <td>0.248826</td>\n",
              "      <td>0.145540</td>\n",
              "      <td>0.089202</td>\n",
              "      <td>0.117371</td>\n",
              "      <td>0.150235</td>\n",
              "      <td>...</td>\n",
              "      <td>0.0</td>\n",
              "      <td>0.0</td>\n",
              "      <td>0.0</td>\n",
              "      <td>0.0</td>\n",
              "      <td>0.0</td>\n",
              "      <td>0.0</td>\n",
              "      <td>0.0</td>\n",
              "      <td>0.0</td>\n",
              "      <td>0.0</td>\n",
              "      <td>0.0</td>\n",
              "    </tr>\n",
              "    <tr>\n",
              "      <th>4</th>\n",
              "      <td>0.927461</td>\n",
              "      <td>1.000000</td>\n",
              "      <td>0.626943</td>\n",
              "      <td>0.193437</td>\n",
              "      <td>0.094991</td>\n",
              "      <td>0.072539</td>\n",
              "      <td>0.043178</td>\n",
              "      <td>0.053541</td>\n",
              "      <td>0.093264</td>\n",
              "      <td>0.189983</td>\n",
              "      <td>...</td>\n",
              "      <td>0.0</td>\n",
              "      <td>0.0</td>\n",
              "      <td>0.0</td>\n",
              "      <td>0.0</td>\n",
              "      <td>0.0</td>\n",
              "      <td>0.0</td>\n",
              "      <td>0.0</td>\n",
              "      <td>0.0</td>\n",
              "      <td>0.0</td>\n",
              "      <td>0.0</td>\n",
              "    </tr>\n",
              "  </tbody>\n",
              "</table>\n",
              "<p>5 rows × 188 columns</p>\n",
              "</div>\n",
              "    <div class=\"colab-df-buttons\">\n",
              "\n",
              "  <div class=\"colab-df-container\">\n",
              "    <button class=\"colab-df-convert\" onclick=\"convertToInteractive('df-139922e0-8295-4b05-811d-5f68f540afb8')\"\n",
              "            title=\"Convert this dataframe to an interactive table.\"\n",
              "            style=\"display:none;\">\n",
              "\n",
              "  <svg xmlns=\"http://www.w3.org/2000/svg\" height=\"24px\" viewBox=\"0 -960 960 960\">\n",
              "    <path d=\"M120-120v-720h720v720H120Zm60-500h600v-160H180v160Zm220 220h160v-160H400v160Zm0 220h160v-160H400v160ZM180-400h160v-160H180v160Zm440 0h160v-160H620v160ZM180-180h160v-160H180v160Zm440 0h160v-160H620v160Z\"/>\n",
              "  </svg>\n",
              "    </button>\n",
              "\n",
              "  <style>\n",
              "    .colab-df-container {\n",
              "      display:flex;\n",
              "      gap: 12px;\n",
              "    }\n",
              "\n",
              "    .colab-df-convert {\n",
              "      background-color: #E8F0FE;\n",
              "      border: none;\n",
              "      border-radius: 50%;\n",
              "      cursor: pointer;\n",
              "      display: none;\n",
              "      fill: #1967D2;\n",
              "      height: 32px;\n",
              "      padding: 0 0 0 0;\n",
              "      width: 32px;\n",
              "    }\n",
              "\n",
              "    .colab-df-convert:hover {\n",
              "      background-color: #E2EBFA;\n",
              "      box-shadow: 0px 1px 2px rgba(60, 64, 67, 0.3), 0px 1px 3px 1px rgba(60, 64, 67, 0.15);\n",
              "      fill: #174EA6;\n",
              "    }\n",
              "\n",
              "    .colab-df-buttons div {\n",
              "      margin-bottom: 4px;\n",
              "    }\n",
              "\n",
              "    [theme=dark] .colab-df-convert {\n",
              "      background-color: #3B4455;\n",
              "      fill: #D2E3FC;\n",
              "    }\n",
              "\n",
              "    [theme=dark] .colab-df-convert:hover {\n",
              "      background-color: #434B5C;\n",
              "      box-shadow: 0px 1px 3px 1px rgba(0, 0, 0, 0.15);\n",
              "      filter: drop-shadow(0px 1px 2px rgba(0, 0, 0, 0.3));\n",
              "      fill: #FFFFFF;\n",
              "    }\n",
              "  </style>\n",
              "\n",
              "    <script>\n",
              "      const buttonEl =\n",
              "        document.querySelector('#df-139922e0-8295-4b05-811d-5f68f540afb8 button.colab-df-convert');\n",
              "      buttonEl.style.display =\n",
              "        google.colab.kernel.accessAllowed ? 'block' : 'none';\n",
              "\n",
              "      async function convertToInteractive(key) {\n",
              "        const element = document.querySelector('#df-139922e0-8295-4b05-811d-5f68f540afb8');\n",
              "        const dataTable =\n",
              "          await google.colab.kernel.invokeFunction('convertToInteractive',\n",
              "                                                    [key], {});\n",
              "        if (!dataTable) return;\n",
              "\n",
              "        const docLinkHtml = 'Like what you see? Visit the ' +\n",
              "          '<a target=\"_blank\" href=https://colab.research.google.com/notebooks/data_table.ipynb>data table notebook</a>'\n",
              "          + ' to learn more about interactive tables.';\n",
              "        element.innerHTML = '';\n",
              "        dataTable['output_type'] = 'display_data';\n",
              "        await google.colab.output.renderOutput(dataTable, element);\n",
              "        const docLink = document.createElement('div');\n",
              "        docLink.innerHTML = docLinkHtml;\n",
              "        element.appendChild(docLink);\n",
              "      }\n",
              "    </script>\n",
              "  </div>\n",
              "\n",
              "\n",
              "<div id=\"df-5798b835-4ab3-49d0-9614-e34084716c96\">\n",
              "  <button class=\"colab-df-quickchart\" onclick=\"quickchart('df-5798b835-4ab3-49d0-9614-e34084716c96')\"\n",
              "            title=\"Suggest charts\"\n",
              "            style=\"display:none;\">\n",
              "\n",
              "<svg xmlns=\"http://www.w3.org/2000/svg\" height=\"24px\"viewBox=\"0 0 24 24\"\n",
              "     width=\"24px\">\n",
              "    <g>\n",
              "        <path d=\"M19 3H5c-1.1 0-2 .9-2 2v14c0 1.1.9 2 2 2h14c1.1 0 2-.9 2-2V5c0-1.1-.9-2-2-2zM9 17H7v-7h2v7zm4 0h-2V7h2v10zm4 0h-2v-4h2v4z\"/>\n",
              "    </g>\n",
              "</svg>\n",
              "  </button>\n",
              "\n",
              "<style>\n",
              "  .colab-df-quickchart {\n",
              "      --bg-color: #E8F0FE;\n",
              "      --fill-color: #1967D2;\n",
              "      --hover-bg-color: #E2EBFA;\n",
              "      --hover-fill-color: #174EA6;\n",
              "      --disabled-fill-color: #AAA;\n",
              "      --disabled-bg-color: #DDD;\n",
              "  }\n",
              "\n",
              "  [theme=dark] .colab-df-quickchart {\n",
              "      --bg-color: #3B4455;\n",
              "      --fill-color: #D2E3FC;\n",
              "      --hover-bg-color: #434B5C;\n",
              "      --hover-fill-color: #FFFFFF;\n",
              "      --disabled-bg-color: #3B4455;\n",
              "      --disabled-fill-color: #666;\n",
              "  }\n",
              "\n",
              "  .colab-df-quickchart {\n",
              "    background-color: var(--bg-color);\n",
              "    border: none;\n",
              "    border-radius: 50%;\n",
              "    cursor: pointer;\n",
              "    display: none;\n",
              "    fill: var(--fill-color);\n",
              "    height: 32px;\n",
              "    padding: 0;\n",
              "    width: 32px;\n",
              "  }\n",
              "\n",
              "  .colab-df-quickchart:hover {\n",
              "    background-color: var(--hover-bg-color);\n",
              "    box-shadow: 0 1px 2px rgba(60, 64, 67, 0.3), 0 1px 3px 1px rgba(60, 64, 67, 0.15);\n",
              "    fill: var(--button-hover-fill-color);\n",
              "  }\n",
              "\n",
              "  .colab-df-quickchart-complete:disabled,\n",
              "  .colab-df-quickchart-complete:disabled:hover {\n",
              "    background-color: var(--disabled-bg-color);\n",
              "    fill: var(--disabled-fill-color);\n",
              "    box-shadow: none;\n",
              "  }\n",
              "\n",
              "  .colab-df-spinner {\n",
              "    border: 2px solid var(--fill-color);\n",
              "    border-color: transparent;\n",
              "    border-bottom-color: var(--fill-color);\n",
              "    animation:\n",
              "      spin 1s steps(1) infinite;\n",
              "  }\n",
              "\n",
              "  @keyframes spin {\n",
              "    0% {\n",
              "      border-color: transparent;\n",
              "      border-bottom-color: var(--fill-color);\n",
              "      border-left-color: var(--fill-color);\n",
              "    }\n",
              "    20% {\n",
              "      border-color: transparent;\n",
              "      border-left-color: var(--fill-color);\n",
              "      border-top-color: var(--fill-color);\n",
              "    }\n",
              "    30% {\n",
              "      border-color: transparent;\n",
              "      border-left-color: var(--fill-color);\n",
              "      border-top-color: var(--fill-color);\n",
              "      border-right-color: var(--fill-color);\n",
              "    }\n",
              "    40% {\n",
              "      border-color: transparent;\n",
              "      border-right-color: var(--fill-color);\n",
              "      border-top-color: var(--fill-color);\n",
              "    }\n",
              "    60% {\n",
              "      border-color: transparent;\n",
              "      border-right-color: var(--fill-color);\n",
              "    }\n",
              "    80% {\n",
              "      border-color: transparent;\n",
              "      border-right-color: var(--fill-color);\n",
              "      border-bottom-color: var(--fill-color);\n",
              "    }\n",
              "    90% {\n",
              "      border-color: transparent;\n",
              "      border-bottom-color: var(--fill-color);\n",
              "    }\n",
              "  }\n",
              "</style>\n",
              "\n",
              "  <script>\n",
              "    async function quickchart(key) {\n",
              "      const quickchartButtonEl =\n",
              "        document.querySelector('#' + key + ' button');\n",
              "      quickchartButtonEl.disabled = true;  // To prevent multiple clicks.\n",
              "      quickchartButtonEl.classList.add('colab-df-spinner');\n",
              "      try {\n",
              "        const charts = await google.colab.kernel.invokeFunction(\n",
              "            'suggestCharts', [key], {});\n",
              "      } catch (error) {\n",
              "        console.error('Error during call to suggestCharts:', error);\n",
              "      }\n",
              "      quickchartButtonEl.classList.remove('colab-df-spinner');\n",
              "      quickchartButtonEl.classList.add('colab-df-quickchart-complete');\n",
              "    }\n",
              "    (() => {\n",
              "      let quickchartButtonEl =\n",
              "        document.querySelector('#df-5798b835-4ab3-49d0-9614-e34084716c96 button');\n",
              "      quickchartButtonEl.style.display =\n",
              "        google.colab.kernel.accessAllowed ? 'block' : 'none';\n",
              "    })();\n",
              "  </script>\n",
              "</div>\n",
              "\n",
              "    </div>\n",
              "  </div>\n"
            ],
            "application/vnd.google.colaboratory.intrinsic+json": {
              "type": "dataframe",
              "variable_name": "train_df"
            }
          },
          "metadata": {},
          "execution_count": 3
        }
      ]
    },
    {
      "cell_type": "markdown",
      "source": [
        "## 📝 Dataset Structure"
      ],
      "metadata": {
        "id": "vP187EdJeaIW"
      }
    },
    {
      "cell_type": "markdown",
      "source": [
        "- **Rows:** Each row represents an individual heartbeat segment.\n",
        "\n",
        "- **Columns:**\n",
        "\n",
        "    - The first **187 columns** are the time-series values of the ECG signal.\n",
        "    \n",
        "    - The **188th column** is the label (heartbeat class)."
      ],
      "metadata": {
        "id": "UB6NLkeYhxaX"
      }
    },
    {
      "cell_type": "markdown",
      "source": [
        "## 📋 Summary of Classes"
      ],
      "metadata": {
        "id": "fpRcCno-iB85"
      }
    },
    {
      "cell_type": "markdown",
      "source": [
        "| Class Label | Class Description | Code |\n",
        "| :---------- | :---------------- | :--- |\n",
        "| **0** | Normal Beat | **N** |\n",
        "| **1** | Supraventricular Ectopic Beat | **S** |\n",
        "| **2** | Ventricular Ectopic Beat | **V** |\n",
        "| **3** | Fusion Beat | **F** |\n",
        "| **4** | Unknown Beat | **Q** |"
      ],
      "metadata": {
        "id": "lJGZWpNyib6U"
      }
    },
    {
      "cell_type": "markdown",
      "source": [
        "![rainbow](https://github.com/ancilcleetus/My-Learning-Journey/assets/25684256/839c3524-2a1d-4779-85a0-83c562e1e5e5)"
      ],
      "metadata": {
        "id": "r2eauuAOjUcK"
      }
    },
    {
      "cell_type": "markdown",
      "source": [
        "# 3. Initial Data Inspection"
      ],
      "metadata": {
        "id": "CVpfkAGRjUcN"
      }
    },
    {
      "cell_type": "markdown",
      "source": [
        "## ✅ Check Dataset Size"
      ],
      "metadata": {
        "id": "UrLm6OwvjzKN"
      }
    },
    {
      "cell_type": "code",
      "source": [
        "print(f\"Training Set Shape: {train_df.shape}\")\n",
        "print(f\"Testing Set Shape: {test_df.shape}\")"
      ],
      "metadata": {
        "colab": {
          "base_uri": "https://localhost:8080/"
        },
        "id": "AzjR4sjQkPIZ",
        "outputId": "39f62206-aae2-4640-8c64-895d41992ab7"
      },
      "execution_count": 4,
      "outputs": [
        {
          "output_type": "stream",
          "name": "stdout",
          "text": [
            "Training Set Shape: (87553, 188)\n",
            "Testing Set Shape: (21891, 188)\n"
          ]
        }
      ]
    },
    {
      "cell_type": "markdown",
      "source": [
        "## ✅ Check for Missing Values"
      ],
      "metadata": {
        "id": "8E9RPWlNj2t2"
      }
    },
    {
      "cell_type": "code",
      "source": [
        "print(train_df.isnull().sum().sum())\n",
        "print(test_df.isnull().sum().sum())"
      ],
      "metadata": {
        "colab": {
          "base_uri": "https://localhost:8080/"
        },
        "id": "uAZFNBBakUyE",
        "outputId": "e67a75e8-7882-481e-e15d-bdc68024762d"
      },
      "execution_count": 5,
      "outputs": [
        {
          "output_type": "stream",
          "name": "stdout",
          "text": [
            "0\n",
            "0\n"
          ]
        }
      ]
    },
    {
      "cell_type": "markdown",
      "source": [
        "**Interpretation:** If the result is **0**, the dataset has no missing values."
      ],
      "metadata": {
        "id": "T44dZUe8kaKw"
      }
    },
    {
      "cell_type": "markdown",
      "source": [
        "## ✅ Class Distribution in Training and Testing Sets"
      ],
      "metadata": {
        "id": "1FtBWhtyj387"
      }
    },
    {
      "cell_type": "code",
      "source": [
        "train_labels = train_df.iloc[:, -1]\n",
        "test_labels = test_df.iloc[:, -1]\n",
        "\n",
        "# Count the occurrences of each class\n",
        "train_class_counts = Counter(train_labels)\n",
        "test_class_counts = Counter(test_labels)\n",
        "\n",
        "print(f\"Training Set Class Distribution: {train_class_counts}\")\n",
        "print(f\"Testing Set Class Distribution: {test_class_counts}\")"
      ],
      "metadata": {
        "colab": {
          "base_uri": "https://localhost:8080/"
        },
        "id": "JgOmNwAXkxWd",
        "outputId": "3b5838c2-b005-462d-c66a-b13297394e54"
      },
      "execution_count": 6,
      "outputs": [
        {
          "output_type": "stream",
          "name": "stdout",
          "text": [
            "Training Set Class Distribution: Counter({0.0: 72470, 4.0: 6431, 2.0: 5788, 1.0: 2223, 3.0: 641})\n",
            "Testing Set Class Distribution: Counter({0.0: 18117, 4.0: 1608, 2.0: 1448, 1.0: 556, 3.0: 162})\n"
          ]
        }
      ]
    },
    {
      "cell_type": "code",
      "source": [
        "# Plot the Training Set Class Distribution\n",
        "sns.set_style('whitegrid')\n",
        "plt.figure(figsize=(10, 5))\n",
        "sns.countplot(x=train_labels)\n",
        "plt.title(\"Training Set Class Distribution\")\n",
        "plt.xlabel(\"Class Label\")\n",
        "plt.ylabel(\"Count\")\n",
        "plt.show()"
      ],
      "metadata": {
        "colab": {
          "base_uri": "https://localhost:8080/",
          "height": 487
        },
        "id": "_wPey4tek2xk",
        "outputId": "3ab15f09-f6b2-4ac6-8d0d-cd4e8f2b3a98"
      },
      "execution_count": 7,
      "outputs": [
        {
          "output_type": "display_data",
          "data": {
            "text/plain": [
              "<Figure size 1000x500 with 1 Axes>"
            ],
            "image/png": "[encoded data removed]"
          },
          "metadata": {}
        }
      ]
    },
    {
      "cell_type": "code",
      "source": [
        "# Plot the Testing Set Class Distribution\n",
        "sns.set_style('whitegrid')\n",
        "plt.figure(figsize=(10, 5))\n",
        "sns.countplot(x=test_labels)\n",
        "plt.title(\"Testing Set Class Distribution\")\n",
        "plt.xlabel(\"Class Label\")\n",
        "plt.ylabel(\"Count\")\n",
        "plt.show()"
      ],
      "metadata": {
        "colab": {
          "base_uri": "https://localhost:8080/",
          "height": 487
        },
        "id": "rbPerjoQk-uE",
        "outputId": "336b4658-2c66-4b64-cc69-9a1da827b8ae"
      },
      "execution_count": 8,
      "outputs": [
        {
          "output_type": "display_data",
          "data": {
            "text/plain": [
              "<Figure size 1000x500 with 1 Axes>"
            ],
            "image/png": "[encoded data removed]"
          },
          "metadata": {}
        }
      ]
    },
    {
      "cell_type": "markdown",
      "source": [
        "### 📝 Observations"
      ],
      "metadata": {
        "id": "axF_y-N-j389"
      }
    },
    {
      "cell_type": "markdown",
      "source": [
        "- Notice the **imbalance** in class distribution. Some classes have far fewer samples than others.\n",
        "\n",
        "- This imbalance may affect model performance, requiring techniques like **resampling** or **class weighting**."
      ],
      "metadata": {
        "id": "u33ItJ9pmRjb"
      }
    },
    {
      "cell_type": "markdown",
      "source": [
        "![rainbow](https://github.com/ancilcleetus/My-Learning-Journey/assets/25684256/839c3524-2a1d-4779-85a0-83c562e1e5e5)"
      ],
      "metadata": {
        "id": "-VOzH_ahmc-J"
      }
    },
    {
      "cell_type": "markdown",
      "source": [
        "# 4. Visualizing ECG Signals"
      ],
      "metadata": {
        "id": "8sVyIOJNmc-g"
      }
    },
    {
      "cell_type": "markdown",
      "source": [
        "![rainbow](https://github.com/ancilcleetus/My-Learning-Journey/assets/25684256/839c3524-2a1d-4779-85a0-83c562e1e5e5)"
      ],
      "metadata": {
        "id": "U897-NGnYhHk"
      }
    },
    {
      "cell_type": "markdown",
      "source": [
        "## 🔗 Dataset Link"
      ],
      "metadata": {
        "id": "mqZaXCpGealI"
      }
    },
    {
      "cell_type": "markdown",
      "source": [
        "Difficulty: ${\\color{green}{Easy}}$\n",
        "Difficulty: ${\\color{orange}{Medium}}$\n",
        "Difficulty: ${\\color{red}{Hard}}$"
      ],
      "metadata": {
        "id": "Pf0qrlJcsUj9"
      }
    },
    {
      "cell_type": "code",
      "source": [
        "# Deep Learning as subset of ML\n",
        "\n",
        "from IPython import display\n",
        "display.Image(\"data/images/ML.jpg\")"
      ],
      "metadata": {
        "id": "juNAxVBFg7sw"
      },
      "execution_count": null,
      "outputs": []
    },
    {
      "cell_type": "markdown",
      "source": [
        "![rainbow](https://github.com/ancilcleetus/My-Learning-Journey/assets/25684256/839c3524-2a1d-4779-85a0-83c562e1e5e5)"
      ],
      "metadata": {
        "id": "qqv0L0R9dyKJ"
      }
    }
  ]
}