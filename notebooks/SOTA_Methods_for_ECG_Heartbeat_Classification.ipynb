{
  "nbformat": 4,
  "nbformat_minor": 0,
  "metadata": {
    "colab": {
      "provenance": []
    },
    "kernelspec": {
      "name": "python3",
      "display_name": "Python 3"
    },
    "language_info": {
      "name": "python"
    }
  },
  "cells": [
    {
      "cell_type": "markdown",
      "source": [
        "# State Of The Art (SOTA) Methods for ECG Heartbeat Classification"
      ],
      "metadata": {
        "id": "F6dfM34sf_l1"
      }
    },
    {
      "cell_type": "markdown",
      "source": [
        "![rainbow](https://github.com/ancilcleetus/My-Learning-Journey/assets/25684256/839c3524-2a1d-4779-85a0-83c562e1e5e5)"
      ],
      "metadata": {
        "id": "D0XaQAZ-g549"
      }
    },
    {
      "cell_type": "markdown",
      "source": [
        "# 📖 TABLE OF CONTENTS\n",
        "\n",
        "- [Section 1]()\n",
        "  - [Subsection 1]()\n",
        "    - [Subsubsection 1]()\n",
        "    - [Subsubsection 2]()\n",
        "  - [Subsection 2]()\n",
        "    - [Subsubsection 1]()\n",
        "    - [Subsubsection 2]()\n",
        "- [Section 2]()\n",
        "  - [Subsection 1]()\n",
        "    - [Subsubsection 1]()\n",
        "    - [Subsubsection 2]()\n",
        "  - [Subsection 2]()\n",
        "    - [Subsubsection 1]()\n",
        "    - [Subsubsection 2]()"
      ],
      "metadata": {
        "id": "SIhfEEeuxaVU"
      }
    },
    {
      "cell_type": "markdown",
      "source": [
        "![rainbow](https://github.com/ancilcleetus/My-Learning-Journey/assets/25684256/839c3524-2a1d-4779-85a0-83c562e1e5e5)"
      ],
      "metadata": {
        "id": "uLR90WhedwER"
      }
    },
    {
      "cell_type": "markdown",
      "source": [
        "# 1. First Topic"
      ],
      "metadata": {
        "id": "bKim3KwyTp11"
      }
    },
    {
      "cell_type": "markdown",
      "source": [
        "![rainbow](https://github.com/ancilcleetus/My-Learning-Journey/assets/25684256/839c3524-2a1d-4779-85a0-83c562e1e5e5)"
      ],
      "metadata": {
        "id": "4_-HK_wn4I_9"
      }
    },
    {
      "cell_type": "markdown",
      "source": [
        "# 99. References"
      ],
      "metadata": {
        "id": "WVitftKx4I__"
      }
    },
    {
      "cell_type": "markdown",
      "source": [
        "- [Papers With Code - Arrhythmia Detection on MIT-BIH Arrhythmia Database](https://paperswithcode.com/sota/arrhythmia-detection-on-mit-bih-arrhythmia)\n",
        "- [Alternative Telescopic Displacement: An Efficient Multimodal Alignment Method - Published on September 2024](https://arxiv.org/pdf/2306.16950v4)\n",
        "- [Code for \"Alternative Telescopic Displacement: An Efficient Multimodal Alignment Method\"](https://github.com/D-ST-Sword/ATD)\n",
        "- [Deep learning for ECG classification: A comparative study of 1D and 2D representations and multimodal fusion approaches - Published on July 2024](https://www.sciencedirect.com/science/article/pii/S174680942400199X)\n",
        "- [Code for \"Deep learning for ECG classification: A comparative study of 1D and 2D representations and multimodal fusion approaches\"](https://github.com/HemaxiN/DL_ECG_Classification)\n",
        "- [Multimodal ECG heartbeat classification method based on a convolutional neural network embedded with FCA - Published on April 2024](https://www.nature.com/articles/s41598-024-59311-0)\n",
        "- [Heartbeat classification method combining multi-branch convolutional neural networks and transformer - Published on March 2024](https://www.sciencedirect.com/science/article/pii/S2589004224005285)\n",
        "- [Code for \"Heartbeat classification method combining multi-branch convolutional neural networks and transformer\"](https://github.com/wjnGXNU/Fusion-model)\n",
        "- [A Personalized Zero-Shot ECG Arrhythmia Monitoring System - Published on July 2022](https://arxiv.org/pdf/2207.07089v2)\n",
        "- [Code for \"A Personalized Zero-Shot ECG Arrhythmia Monitoring System\"](https://github.com/mertduman/zero-shot-ecg)"
      ],
      "metadata": {
        "id": "OaqvMcjX4Mc2"
      }
    },
    {
      "cell_type": "markdown",
      "source": [
        "![rainbow](https://github.com/ancilcleetus/My-Learning-Journey/assets/25684256/839c3524-2a1d-4779-85a0-83c562e1e5e5)"
      ],
      "metadata": {
        "id": "U897-NGnYhHk"
      }
    },
    {
      "cell_type": "markdown",
      "source": [
        "Difficulty: ${\\color{green}{Easy}}$\n",
        "Difficulty: ${\\color{orange}{Medium}}$\n",
        "Difficulty: ${\\color{red}{Hard}}$"
      ],
      "metadata": {
        "id": "Pf0qrlJcsUj9"
      }
    },
    {
      "cell_type": "code",
      "source": [
        "# Deep Learning as subset of ML\n",
        "\n",
        "from IPython import display\n",
        "display.Image(\"data/images/ML.jpg\")"
      ],
      "metadata": {
        "id": "juNAxVBFg7sw"
      },
      "execution_count": null,
      "outputs": []
    },
    {
      "cell_type": "markdown",
      "source": [
        "![rainbow](https://github.com/ancilcleetus/My-Learning-Journey/assets/25684256/839c3524-2a1d-4779-85a0-83c562e1e5e5)"
      ],
      "metadata": {
        "id": "qqv0L0R9dyKJ"
      }
    }
  ]
}